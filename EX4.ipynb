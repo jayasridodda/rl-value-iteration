{
  "nbformat": 4,
  "nbformat_minor": 0,
  "metadata": {
    "colab": {
      "provenance": [],
      "include_colab_link": true
    },
    "kernelspec": {
      "name": "python3",
      "display_name": "Python 3"
    },
    "language_info": {
      "name": "python"
    }
  },
  "cells": [
    {
      "cell_type": "markdown",
      "metadata": {
        "id": "view-in-github",
        "colab_type": "text"
      },
      "source": [
        "<a href=\"https://colab.research.google.com/github/jayasridodda/rl-value-iteration/blob/main/EX4.ipynb\" target=\"_parent\"><img src=\"https://colab.research.google.com/assets/colab-badge.svg\" alt=\"Open In Colab\"/></a>"
      ]
    },
    {
      "cell_type": "code",
      "execution_count": 2,
      "metadata": {
        "id": "X-NPnX6RC8EL"
      },
      "outputs": [],
      "source": [
        "import warnings ; warnings.filterwarnings('ignore')\n",
        "\n",
        "import gym, gym_walk\n",
        "import numpy as np\n",
        "\n",
        "import random\n",
        "import warnings\n",
        "\n",
        "warnings.filterwarnings('ignore', category=DeprecationWarning)\n",
        "np.set_printoptions(suppress=True)\n",
        "random.seed(123); np.random.seed(123)\n"
      ]
    },
    {
      "cell_type": "code",
      "source": [
        "pip install git+https://github.com/mimoralea/gym-walk#egg=gym-walk"
      ],
      "metadata": {
        "id": "Xq4FC7N-DYqX",
        "outputId": "ed9bcce0-d131-4929-f38a-416331ead70e",
        "colab": {
          "base_uri": "https://localhost:8080/"
        }
      },
      "execution_count": 1,
      "outputs": [
        {
          "output_type": "stream",
          "name": "stdout",
          "text": [
            "Collecting gym-walk\n",
            "  Cloning https://github.com/mimoralea/gym-walk to /tmp/pip-install-86mh_8tm/gym-walk_f50f4dba0df24ac0b66afcdf18ce8f94\n",
            "  Running command git clone --filter=blob:none --quiet https://github.com/mimoralea/gym-walk /tmp/pip-install-86mh_8tm/gym-walk_f50f4dba0df24ac0b66afcdf18ce8f94\n",
            "  Resolved https://github.com/mimoralea/gym-walk to commit 5999016267d6de2f5a63307fb00dfd63de319ac1\n",
            "  Preparing metadata (setup.py) ... \u001b[?25l\u001b[?25hdone\n",
            "Requirement already satisfied: gym in /usr/local/lib/python3.10/dist-packages (from gym-walk) (0.25.2)\n",
            "Requirement already satisfied: numpy>=1.18.0 in /usr/local/lib/python3.10/dist-packages (from gym->gym-walk) (1.26.4)\n",
            "Requirement already satisfied: cloudpickle>=1.2.0 in /usr/local/lib/python3.10/dist-packages (from gym->gym-walk) (3.1.0)\n",
            "Requirement already satisfied: gym-notices>=0.0.4 in /usr/local/lib/python3.10/dist-packages (from gym->gym-walk) (0.0.8)\n",
            "Building wheels for collected packages: gym-walk\n",
            "  Building wheel for gym-walk (setup.py) ... \u001b[?25l\u001b[?25hdone\n",
            "  Created wheel for gym-walk: filename=gym_walk-0.0.2-py3-none-any.whl size=4059 sha256=2d574d7039d6941f36156481721536061f8c94e033fd4edbb624ca3f2dcdd894\n",
            "  Stored in directory: /tmp/pip-ephem-wheel-cache-1jnmhmzs/wheels/24/fe/c4/0cbc7511d29265bad7e28a09311db3f87f0cafba74af54d530\n",
            "Successfully built gym-walk\n",
            "Installing collected packages: gym-walk\n",
            "Successfully installed gym-walk-0.0.2\n"
          ]
        }
      ]
    },
    {
      "cell_type": "code",
      "source": [
        "def print_policy(pi, P, action_symbols=('<', 'v', '>', '^'), n_cols=4, title='Policy:'):\n",
        "    print(title)\n",
        "    arrs = {k:v for k,v in enumerate(action_symbols)}\n",
        "    for s in range(len(P)):\n",
        "        a = pi(s)\n",
        "        print(\"| \", end=\"\")\n",
        "        if np.all([done for action in P[s].values() for _, _, _, done in action]):\n",
        "            print(\"\".rjust(9), end=\" \")\n",
        "        else:\n",
        "            print(str(s).zfill(2), arrs[a].rjust(6), end=\" \")\n",
        "        if (s + 1) % n_cols == 0: print(\"|\")"
      ],
      "metadata": {
        "id": "ULnSv0hyELsY"
      },
      "execution_count": 3,
      "outputs": []
    },
    {
      "cell_type": "code",
      "source": [
        "def print_state_value_function(V, P, n_cols=4, prec=3, title='State-value function:'):\n",
        "    print(title)\n",
        "    for s in range(len(P)):\n",
        "        v = V[s]\n",
        "        print(\"| \", end=\"\")\n",
        "        if np.all([done for action in P[s].values() for _, _, _, done in action]):\n",
        "            print(\"\".rjust(9), end=\" \")\n",
        "        else:\n",
        "            print(str(s).zfill(2), '{}'.format(np.round(v, prec)).rjust(6), end=\" \")\n",
        "        if (s + 1) % n_cols == 0: print(\"|\")"
      ],
      "metadata": {
        "id": "odrRzhpWFxY6"
      },
      "execution_count": 4,
      "outputs": []
    },
    {
      "cell_type": "code",
      "source": [
        "def probability_success(env, pi, goal_state, n_episodes=100, max_steps=200):\n",
        "    random.seed(123); np.random.seed(123) ; env.seed(123)\n",
        "    results = []\n",
        "    for _ in range(n_episodes):\n",
        "        state, done, steps = env.reset(), False, 0\n",
        "        while not done and steps < max_steps:\n",
        "            state, _, done, h = env.step(pi(state))\n",
        "            steps += 1\n",
        "        results.append(state == goal_state)\n",
        "    return np.sum(results)/len(results)"
      ],
      "metadata": {
        "id": "1TQZrao3KV4z"
      },
      "execution_count": 5,
      "outputs": []
    },
    {
      "cell_type": "code",
      "source": [
        "def mean_return(env, pi, n_episodes=100, max_steps=200):\n",
        "    random.seed(123); np.random.seed(123) ; env.seed(123)\n",
        "    results = []\n",
        "    for _ in range(n_episodes):\n",
        "        state, done, steps = env.reset(), False, 0\n",
        "        results.append(0.0)\n",
        "        while not done and steps < max_steps:\n",
        "            state, reward, done, _ = env.step(pi(state))\n",
        "            results[-1] += reward\n",
        "            steps += 1\n",
        "    return np.mean(results)"
      ],
      "metadata": {
        "id": "Jo6HA0ljKYWS"
      },
      "execution_count": 6,
      "outputs": []
    },
    {
      "cell_type": "markdown",
      "source": [
        "# Creating the Frozen Lake environment"
      ],
      "metadata": {
        "id": "1ibH_URngdY3"
      }
    },
    {
      "cell_type": "code",
      "source": [
        "env = gym.make('FrozenLake-v1')\n",
        "init_state = env.reset()\n",
        "goal_state = 15\n",
        "P = env.env.P"
      ],
      "metadata": {
        "id": "daeOaNMIfPsM"
      },
      "execution_count": 7,
      "outputs": []
    },
    {
      "cell_type": "code",
      "source": [
        "P"
      ],
      "metadata": {
        "id": "gx5F-kzIglWD",
        "outputId": "69517ace-4de3-49c4-d9af-6466a7b856f5",
        "colab": {
          "base_uri": "https://localhost:8080/"
        }
      },
      "execution_count": 8,
      "outputs": [
        {
          "output_type": "execute_result",
          "data": {
            "text/plain": [
              "{0: {0: [(0.3333333333333333, 0, 0.0, False),\n",
              "   (0.3333333333333333, 0, 0.0, False),\n",
              "   (0.3333333333333333, 4, 0.0, False)],\n",
              "  1: [(0.3333333333333333, 0, 0.0, False),\n",
              "   (0.3333333333333333, 4, 0.0, False),\n",
              "   (0.3333333333333333, 1, 0.0, False)],\n",
              "  2: [(0.3333333333333333, 4, 0.0, False),\n",
              "   (0.3333333333333333, 1, 0.0, False),\n",
              "   (0.3333333333333333, 0, 0.0, False)],\n",
              "  3: [(0.3333333333333333, 1, 0.0, False),\n",
              "   (0.3333333333333333, 0, 0.0, False),\n",
              "   (0.3333333333333333, 0, 0.0, False)]},\n",
              " 1: {0: [(0.3333333333333333, 1, 0.0, False),\n",
              "   (0.3333333333333333, 0, 0.0, False),\n",
              "   (0.3333333333333333, 5, 0.0, True)],\n",
              "  1: [(0.3333333333333333, 0, 0.0, False),\n",
              "   (0.3333333333333333, 5, 0.0, True),\n",
              "   (0.3333333333333333, 2, 0.0, False)],\n",
              "  2: [(0.3333333333333333, 5, 0.0, True),\n",
              "   (0.3333333333333333, 2, 0.0, False),\n",
              "   (0.3333333333333333, 1, 0.0, False)],\n",
              "  3: [(0.3333333333333333, 2, 0.0, False),\n",
              "   (0.3333333333333333, 1, 0.0, False),\n",
              "   (0.3333333333333333, 0, 0.0, False)]},\n",
              " 2: {0: [(0.3333333333333333, 2, 0.0, False),\n",
              "   (0.3333333333333333, 1, 0.0, False),\n",
              "   (0.3333333333333333, 6, 0.0, False)],\n",
              "  1: [(0.3333333333333333, 1, 0.0, False),\n",
              "   (0.3333333333333333, 6, 0.0, False),\n",
              "   (0.3333333333333333, 3, 0.0, False)],\n",
              "  2: [(0.3333333333333333, 6, 0.0, False),\n",
              "   (0.3333333333333333, 3, 0.0, False),\n",
              "   (0.3333333333333333, 2, 0.0, False)],\n",
              "  3: [(0.3333333333333333, 3, 0.0, False),\n",
              "   (0.3333333333333333, 2, 0.0, False),\n",
              "   (0.3333333333333333, 1, 0.0, False)]},\n",
              " 3: {0: [(0.3333333333333333, 3, 0.0, False),\n",
              "   (0.3333333333333333, 2, 0.0, False),\n",
              "   (0.3333333333333333, 7, 0.0, True)],\n",
              "  1: [(0.3333333333333333, 2, 0.0, False),\n",
              "   (0.3333333333333333, 7, 0.0, True),\n",
              "   (0.3333333333333333, 3, 0.0, False)],\n",
              "  2: [(0.3333333333333333, 7, 0.0, True),\n",
              "   (0.3333333333333333, 3, 0.0, False),\n",
              "   (0.3333333333333333, 3, 0.0, False)],\n",
              "  3: [(0.3333333333333333, 3, 0.0, False),\n",
              "   (0.3333333333333333, 3, 0.0, False),\n",
              "   (0.3333333333333333, 2, 0.0, False)]},\n",
              " 4: {0: [(0.3333333333333333, 0, 0.0, False),\n",
              "   (0.3333333333333333, 4, 0.0, False),\n",
              "   (0.3333333333333333, 8, 0.0, False)],\n",
              "  1: [(0.3333333333333333, 4, 0.0, False),\n",
              "   (0.3333333333333333, 8, 0.0, False),\n",
              "   (0.3333333333333333, 5, 0.0, True)],\n",
              "  2: [(0.3333333333333333, 8, 0.0, False),\n",
              "   (0.3333333333333333, 5, 0.0, True),\n",
              "   (0.3333333333333333, 0, 0.0, False)],\n",
              "  3: [(0.3333333333333333, 5, 0.0, True),\n",
              "   (0.3333333333333333, 0, 0.0, False),\n",
              "   (0.3333333333333333, 4, 0.0, False)]},\n",
              " 5: {0: [(1.0, 5, 0, True)],\n",
              "  1: [(1.0, 5, 0, True)],\n",
              "  2: [(1.0, 5, 0, True)],\n",
              "  3: [(1.0, 5, 0, True)]},\n",
              " 6: {0: [(0.3333333333333333, 2, 0.0, False),\n",
              "   (0.3333333333333333, 5, 0.0, True),\n",
              "   (0.3333333333333333, 10, 0.0, False)],\n",
              "  1: [(0.3333333333333333, 5, 0.0, True),\n",
              "   (0.3333333333333333, 10, 0.0, False),\n",
              "   (0.3333333333333333, 7, 0.0, True)],\n",
              "  2: [(0.3333333333333333, 10, 0.0, False),\n",
              "   (0.3333333333333333, 7, 0.0, True),\n",
              "   (0.3333333333333333, 2, 0.0, False)],\n",
              "  3: [(0.3333333333333333, 7, 0.0, True),\n",
              "   (0.3333333333333333, 2, 0.0, False),\n",
              "   (0.3333333333333333, 5, 0.0, True)]},\n",
              " 7: {0: [(1.0, 7, 0, True)],\n",
              "  1: [(1.0, 7, 0, True)],\n",
              "  2: [(1.0, 7, 0, True)],\n",
              "  3: [(1.0, 7, 0, True)]},\n",
              " 8: {0: [(0.3333333333333333, 4, 0.0, False),\n",
              "   (0.3333333333333333, 8, 0.0, False),\n",
              "   (0.3333333333333333, 12, 0.0, True)],\n",
              "  1: [(0.3333333333333333, 8, 0.0, False),\n",
              "   (0.3333333333333333, 12, 0.0, True),\n",
              "   (0.3333333333333333, 9, 0.0, False)],\n",
              "  2: [(0.3333333333333333, 12, 0.0, True),\n",
              "   (0.3333333333333333, 9, 0.0, False),\n",
              "   (0.3333333333333333, 4, 0.0, False)],\n",
              "  3: [(0.3333333333333333, 9, 0.0, False),\n",
              "   (0.3333333333333333, 4, 0.0, False),\n",
              "   (0.3333333333333333, 8, 0.0, False)]},\n",
              " 9: {0: [(0.3333333333333333, 5, 0.0, True),\n",
              "   (0.3333333333333333, 8, 0.0, False),\n",
              "   (0.3333333333333333, 13, 0.0, False)],\n",
              "  1: [(0.3333333333333333, 8, 0.0, False),\n",
              "   (0.3333333333333333, 13, 0.0, False),\n",
              "   (0.3333333333333333, 10, 0.0, False)],\n",
              "  2: [(0.3333333333333333, 13, 0.0, False),\n",
              "   (0.3333333333333333, 10, 0.0, False),\n",
              "   (0.3333333333333333, 5, 0.0, True)],\n",
              "  3: [(0.3333333333333333, 10, 0.0, False),\n",
              "   (0.3333333333333333, 5, 0.0, True),\n",
              "   (0.3333333333333333, 8, 0.0, False)]},\n",
              " 10: {0: [(0.3333333333333333, 6, 0.0, False),\n",
              "   (0.3333333333333333, 9, 0.0, False),\n",
              "   (0.3333333333333333, 14, 0.0, False)],\n",
              "  1: [(0.3333333333333333, 9, 0.0, False),\n",
              "   (0.3333333333333333, 14, 0.0, False),\n",
              "   (0.3333333333333333, 11, 0.0, True)],\n",
              "  2: [(0.3333333333333333, 14, 0.0, False),\n",
              "   (0.3333333333333333, 11, 0.0, True),\n",
              "   (0.3333333333333333, 6, 0.0, False)],\n",
              "  3: [(0.3333333333333333, 11, 0.0, True),\n",
              "   (0.3333333333333333, 6, 0.0, False),\n",
              "   (0.3333333333333333, 9, 0.0, False)]},\n",
              " 11: {0: [(1.0, 11, 0, True)],\n",
              "  1: [(1.0, 11, 0, True)],\n",
              "  2: [(1.0, 11, 0, True)],\n",
              "  3: [(1.0, 11, 0, True)]},\n",
              " 12: {0: [(1.0, 12, 0, True)],\n",
              "  1: [(1.0, 12, 0, True)],\n",
              "  2: [(1.0, 12, 0, True)],\n",
              "  3: [(1.0, 12, 0, True)]},\n",
              " 13: {0: [(0.3333333333333333, 9, 0.0, False),\n",
              "   (0.3333333333333333, 12, 0.0, True),\n",
              "   (0.3333333333333333, 13, 0.0, False)],\n",
              "  1: [(0.3333333333333333, 12, 0.0, True),\n",
              "   (0.3333333333333333, 13, 0.0, False),\n",
              "   (0.3333333333333333, 14, 0.0, False)],\n",
              "  2: [(0.3333333333333333, 13, 0.0, False),\n",
              "   (0.3333333333333333, 14, 0.0, False),\n",
              "   (0.3333333333333333, 9, 0.0, False)],\n",
              "  3: [(0.3333333333333333, 14, 0.0, False),\n",
              "   (0.3333333333333333, 9, 0.0, False),\n",
              "   (0.3333333333333333, 12, 0.0, True)]},\n",
              " 14: {0: [(0.3333333333333333, 10, 0.0, False),\n",
              "   (0.3333333333333333, 13, 0.0, False),\n",
              "   (0.3333333333333333, 14, 0.0, False)],\n",
              "  1: [(0.3333333333333333, 13, 0.0, False),\n",
              "   (0.3333333333333333, 14, 0.0, False),\n",
              "   (0.3333333333333333, 15, 1.0, True)],\n",
              "  2: [(0.3333333333333333, 14, 0.0, False),\n",
              "   (0.3333333333333333, 15, 1.0, True),\n",
              "   (0.3333333333333333, 10, 0.0, False)],\n",
              "  3: [(0.3333333333333333, 15, 1.0, True),\n",
              "   (0.3333333333333333, 10, 0.0, False),\n",
              "   (0.3333333333333333, 13, 0.0, False)]},\n",
              " 15: {0: [(1.0, 15, 0, True)],\n",
              "  1: [(1.0, 15, 0, True)],\n",
              "  2: [(1.0, 15, 0, True)],\n",
              "  3: [(1.0, 15, 0, True)]}}"
            ]
          },
          "metadata": {},
          "execution_count": 8
        }
      ]
    },
    {
      "cell_type": "markdown",
      "source": [
        "# Value Iteration Algorithm"
      ],
      "metadata": {
        "id": "TycyEMuPgy3M"
      }
    },
    {
      "cell_type": "code",
      "source": [
        "def value_iteration(P, gamma=1.0, theta=1e-10):\n",
        "    V = np.zeros(len(P), dtype=np.float64)\n",
        "    while True:\n",
        "        Q = np.zeros((len(P), len(P[0])), dtype=np.float64)\n",
        "        for s in range(len(P)):\n",
        "            for a in range(len(P[s])):\n",
        "                for prob, next_state, reward, done in P[s][a]:\n",
        "                    Q[s][a] += prob * (reward + gamma * V[next_state] * (1.0 - done))\n",
        "        if np.max(np.abs(V - np.max(Q, axis=1))) < theta:\n",
        "            break\n",
        "        V = np.max(Q, axis=1)\n",
        "        pi = lambda s: {s: a for s, a in enumerate(np.argmax(Q, axis=1))}[s]\n",
        "    return V, pi"
      ],
      "metadata": {
        "id": "AUlEXpzRgu_n"
      },
      "execution_count": 9,
      "outputs": []
    },
    {
      "cell_type": "code",
      "source": [
        "# Finding the optimal policy\n",
        "V_best_v, pi_best_v = value_iteration(P, gamma=0.99)\n"
      ],
      "metadata": {
        "id": "DKT7CNWjfprP"
      },
      "execution_count": 10,
      "outputs": []
    },
    {
      "cell_type": "code",
      "source": [
        "\n",
        "# Printing the policy\n",
        "print(\"Name:   DODDA JAYASRI    Register Number:   212222240028 \")\n",
        "print('Optimal policy and state-value function (VI):')\n",
        "print_policy(pi_best_v, P)"
      ],
      "metadata": {
        "id": "P2VMyY0fhd6B",
        "outputId": "c0a4ae2f-c0c6-4fb1-93fd-aa1d7c39b701",
        "colab": {
          "base_uri": "https://localhost:8080/"
        }
      },
      "execution_count": 11,
      "outputs": [
        {
          "output_type": "stream",
          "name": "stdout",
          "text": [
            "Name:   DODDA JAYASRI    Register Number:   212222240028 \n",
            "Optimal policy and state-value function (VI):\n",
            "Policy:\n",
            "| 00      < | 01      ^ | 02      ^ | 03      ^ |\n",
            "| 04      < |           | 06      < |           |\n",
            "| 08      ^ | 09      v | 10      < |           |\n",
            "|           | 13      > | 14      v |           |\n"
          ]
        }
      ]
    },
    {
      "cell_type": "code",
      "source": [
        "# printing the success rate and the mean return\n",
        "print('Reaches goal {:.2f}%. Obtains an average undiscounted return of {:.4f}.'.format(\n",
        "    probability_success(env, pi_best_v, goal_state=goal_state)*100,\n",
        "    mean_return(env, pi_best_v)))"
      ],
      "metadata": {
        "id": "yEDEsHpWh3EB",
        "outputId": "c3520bd0-8ffd-42ea-9dc5-565ef0dde051",
        "colab": {
          "base_uri": "https://localhost:8080/"
        }
      },
      "execution_count": 12,
      "outputs": [
        {
          "output_type": "stream",
          "name": "stdout",
          "text": [
            "Reaches goal 69.00%. Obtains an average undiscounted return of 0.6900.\n"
          ]
        }
      ]
    },
    {
      "cell_type": "code",
      "source": [
        "# printing the state value function\n",
        "print(\"Name:   DODDA JAYASRI    Register Number:   212222240028 \")\n",
        "print_state_value_function(V_best_v, P, prec=4)"
      ],
      "metadata": {
        "id": "0i9CtQQ3iDFF",
        "outputId": "5fa7c67d-99aa-4271-d743-aed84eec616a",
        "colab": {
          "base_uri": "https://localhost:8080/"
        }
      },
      "execution_count": 13,
      "outputs": [
        {
          "output_type": "stream",
          "name": "stdout",
          "text": [
            "Name:   DODDA JAYASRI    Register Number:   212222240028 \n",
            "State-value function:\n",
            "| 00  0.542 | 01 0.4988 | 02 0.4707 | 03 0.4569 |\n",
            "| 04 0.5585 |           | 06 0.3583 |           |\n",
            "| 08 0.5918 | 09 0.6431 | 10 0.6152 |           |\n",
            "|           | 13 0.7417 | 14 0.8628 |           |\n"
          ]
        }
      ]
    }
  ]
}